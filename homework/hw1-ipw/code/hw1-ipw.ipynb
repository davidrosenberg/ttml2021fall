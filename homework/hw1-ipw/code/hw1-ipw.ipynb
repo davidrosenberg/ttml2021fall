{
 "cells": [
  {
   "cell_type": "markdown",
   "metadata": {},
   "source": [
    "# Homework 1: Missing Data and inverse propensity weighting"
   ]
  },
  {
   "cell_type": "code",
   "execution_count": 1,
   "metadata": {},
   "outputs": [],
   "source": [
    "%load_ext autoreload\n",
    "%autoreload 2"
   ]
  },
  {
   "cell_type": "code",
   "execution_count": 2,
   "metadata": {},
   "outputs": [],
   "source": [
    "import scipy\n",
    "import pandas as pd\n",
    "import numpy as np\n",
    "from numpy.random import default_rng\n",
    "import seaborn as sns\n",
    "from tools import KangSchafSampler, get_estimator_stats\n",
    "from sklearn.linear_model import LogisticRegression\n",
    "from sklearn.ensemble import RandomForestClassifier\n",
    "\n",
    "from sklearn.ensemble import GradientBoostingClassifier"
   ]
  },
  {
   "cell_type": "markdown",
   "metadata": {},
   "source": [
    "## Kang & Schafer Simulated Dataset\n",
    "\n",
    "The sampling distribution provided in `sampler.py` (KangSchafSampler) was based on Kang and Schafer's [Demystifying Double Robustness: A Comparison of Alternative Strategies for Estimating a Population Mean from Incomplete Data](https://projecteuclid.org/download/pdfview_1/euclid.ss/1207580167) in Section 1.4. They describe the motivation for the simulated dataset in the discussion at the end:\n",
    "\n",
    ">\"We constructed our simulation to vaguely resemble a quasi-experiment to measure the effect of\n",
    "dieting on body mass index (BMI) in a large sample of high-school students. The study has a pre-post\n",
    "design. Covariates $x_i$ measured at baseline include\n",
    "demographic variables, BMI, self-perceived weight\n",
    "and physical fitness, social acceptance and personality measures. The treatment $t_i$ is dieting (0 = yes, 1 =\n",
    "no) and the outcome $y_i$ is BMI one year later. The goal\n",
    "is to estimate an average causal effect of dieting among\n",
    "those who actually dieted. For that purpose, it suffices\n",
    "to treat the dieters as nonrespondents, set their BMI\n",
    "values to missing, and apply a missing-data method\n",
    "to estimate what the mean BMI for this group would\n",
    "have been had they not dieted.\"\n",
    "\n",
    "In terms of the missing data and response bias problem that we've been studying, Kang and Schafer are interested in the situation where we are not given the propensity scores of our observations, but rather we have to estimate the propensity score function from data using a model.  They consider two cases: 1) The model we're fitting is \"correct\", in the sense that the true propensity score function is in the parameterized set of functions of our model. In machine learning terminology, we would just say that the hypothesis space has 0 approximation error. 2) The model we're fitting is \"incorrect\", in the sense that the true propensity score function is not in our model (i.e. there is nonzero approximation error). \n",
    "\n",
    "To simulate these two cases, they create a simple data generating distribution where each response $y$ is an affine function of a covariate vector $z$, plus Gaussian noise.  Similarly, the response probability is determined by a logistic regression model on $z$:\n",
    "* Covariate: $z=(z_1, z_2, z_3, z_4) \\sim N(0, I_{4x4})$\n",
    "* Response: $y = 210 + 27.4z_1 + 13.7z_2 + 13.7z_3 + 13.7z_4 + \\epsilon$ where $\\epsilon \\sim N(0,1)$\n",
    "* Propensity: $\\pi = expit(-z_1 + 0.5z_2 - 0.25z_3 - 0.1z_4)$ which is called `obs_prob` in code below\n",
    "* $r = Bernoull(\\pi)$ is the response indicator, which is called `obs` in code below\n",
    "\n",
    "Using logistic regression on $z$ would be a \"correct\" model in this case. To simulate an \"incorrect\" model, they introduce a new covariate $x=(x_1, x_2, x_3, x_4)$, which is a complicated nonlinear transform of $z$.  (See `transform_z` from `KangSchafSampler.get_x` in tools.py for the explicit mapping -- although in \"real life\" you would not know this transform function.) They then investigate using logistic regression on $x$ to model the propensity score function.  This is clearly an \"incorrect\" model, since logistic regression has a linear dependence on $x$, while the true model has a nonlinear dependence on $x$.\n",
    "\n",
    "In the notebook below, we'll compare using incorrect and correct models in this setting, and we'll also see if we can improve the situation by using modern nonlinear ML models for the propensity function based on $x$.\n",
    "\n",
    "For our sampling distribution:\n",
    "* Overall mean of y = 210\n",
    "* Mean of observed y = 200 \n",
    "* Mean of missing y = 220\n",
    "* Response rate = 0.5\n",
    "\n",
    "Our goal below is to use the observed data to estimate the overall mean of y.  We'll evaluate performance using RMSE between our estimates and 210, which we know to be the actual overall mean.  \n",
    "\n",
    "To start our investigation, we'll visualize the distribution of each component of $x$ for the complete and incomplete cases (corresponding to `obs=True` and `obs=False`).  In practice, this would be a reasonable first step towards determining whether the observations are missing at random -- in other words, whether missingness is predictable from the covariates, as opposed to missing COMPLETELY at random, in which case missingness is not predictable from covariates."
   ]
  },
  {
   "cell_type": "code",
   "execution_count": 3,
   "metadata": {
    "scrolled": true
   },
   "outputs": [
    {
     "data": {
      "text/html": [
       "<div>\n",
       "<style scoped>\n",
       "    .dataframe tbody tr th:only-of-type {\n",
       "        vertical-align: middle;\n",
       "    }\n",
       "\n",
       "    .dataframe tbody tr th {\n",
       "        vertical-align: top;\n",
       "    }\n",
       "\n",
       "    .dataframe thead th {\n",
       "        text-align: right;\n",
       "    }\n",
       "</style>\n",
       "<table border=\"1\" class=\"dataframe\">\n",
       "  <thead>\n",
       "    <tr style=\"text-align: right;\">\n",
       "      <th></th>\n",
       "      <th>z1</th>\n",
       "      <th>z2</th>\n",
       "      <th>z3</th>\n",
       "      <th>z4</th>\n",
       "      <th>x1</th>\n",
       "      <th>x2</th>\n",
       "      <th>x3</th>\n",
       "      <th>x4</th>\n",
       "      <th>obs_prob</th>\n",
       "      <th>obs</th>\n",
       "      <th>y</th>\n",
       "    </tr>\n",
       "  </thead>\n",
       "  <tbody>\n",
       "    <tr>\n",
       "      <th>0</th>\n",
       "      <td>1.254448</td>\n",
       "      <td>0.776902</td>\n",
       "      <td>0.964881</td>\n",
       "      <td>-1.082178</td>\n",
       "      <td>1.872406</td>\n",
       "      <td>10.172419</td>\n",
       "      <td>0.272622</td>\n",
       "      <td>387.882139</td>\n",
       "      <td>0.269138</td>\n",
       "      <td>True</td>\n",
       "      <td>252.441072</td>\n",
       "    </tr>\n",
       "    <tr>\n",
       "      <th>1</th>\n",
       "      <td>0.867017</td>\n",
       "      <td>-0.168161</td>\n",
       "      <td>-0.189661</td>\n",
       "      <td>1.120566</td>\n",
       "      <td>1.542661</td>\n",
       "      <td>9.950245</td>\n",
       "      <td>0.208974</td>\n",
       "      <td>439.003304</td>\n",
       "      <td>0.265858</td>\n",
       "      <td>True</td>\n",
       "      <td>244.895501</td>\n",
       "    </tr>\n",
       "    <tr>\n",
       "      <th>2</th>\n",
       "      <td>-0.436779</td>\n",
       "      <td>-1.279645</td>\n",
       "      <td>-0.469500</td>\n",
       "      <td>-1.196827</td>\n",
       "      <td>0.803812</td>\n",
       "      <td>9.222627</td>\n",
       "      <td>0.224981</td>\n",
       "      <td>307.074015</td>\n",
       "      <td>0.508503</td>\n",
       "      <td>False</td>\n",
       "      <td>156.990005</td>\n",
       "    </tr>\n",
       "    <tr>\n",
       "      <th>3</th>\n",
       "      <td>-1.839857</td>\n",
       "      <td>-0.145557</td>\n",
       "      <td>0.398279</td>\n",
       "      <td>-2.162061</td>\n",
       "      <td>0.398548</td>\n",
       "      <td>9.874394</td>\n",
       "      <td>0.185865</td>\n",
       "      <td>313.020372</td>\n",
       "      <td>0.868037</td>\n",
       "      <td>False</td>\n",
       "      <td>133.941012</td>\n",
       "    </tr>\n",
       "    <tr>\n",
       "      <th>4</th>\n",
       "      <td>0.014477</td>\n",
       "      <td>0.255198</td>\n",
       "      <td>0.173191</td>\n",
       "      <td>-1.270094</td>\n",
       "      <td>1.007265</td>\n",
       "      <td>10.126675</td>\n",
       "      <td>0.216108</td>\n",
       "      <td>360.434196</td>\n",
       "      <td>0.549050</td>\n",
       "      <td>False</td>\n",
       "      <td>197.966340</td>\n",
       "    </tr>\n",
       "  </tbody>\n",
       "</table>\n",
       "</div>"
      ],
      "text/plain": [
       "         z1        z2        z3        z4        x1         x2        x3  \\\n",
       "0  1.254448  0.776902  0.964881 -1.082178  1.872406  10.172419  0.272622   \n",
       "1  0.867017 -0.168161 -0.189661  1.120566  1.542661   9.950245  0.208974   \n",
       "2 -0.436779 -1.279645 -0.469500 -1.196827  0.803812   9.222627  0.224981   \n",
       "3 -1.839857 -0.145557  0.398279 -2.162061  0.398548   9.874394  0.185865   \n",
       "4  0.014477  0.255198  0.173191 -1.270094  1.007265  10.126675  0.216108   \n",
       "\n",
       "           x4  obs_prob    obs           y  \n",
       "0  387.882139  0.269138   True  252.441072  \n",
       "1  439.003304  0.265858   True  244.895501  \n",
       "2  307.074015  0.508503  False  156.990005  \n",
       "3  313.020372  0.868037  False  133.941012  \n",
       "4  360.434196  0.549050  False  197.966340  "
      ]
     },
     "execution_count": 3,
     "metadata": {},
     "output_type": "execute_result"
    }
   ],
   "source": [
    "sampler = KangSchafSampler(rng=default_rng(27))\n",
    "s = sampler.sample(n=200)\n",
    "s.head() "
   ]
  },
  {
   "cell_type": "code",
   "execution_count": 4,
   "metadata": {
    "scrolled": true
   },
   "outputs": [
    {
     "data": {
      "image/png": "[encoded data removed]",
      "text/plain": [
       "<Figure size 1440x360 with 4 Axes>"
      ]
     },
     "metadata": {
      "needs_background": "light"
     },
     "output_type": "display_data"
    }
   ],
   "source": [
    "df_long = pd.melt(s[['x1', 'x2', 'x3', 'x4', 'obs']], \"obs\", var_name=\"x\", value_name=\"val\")\n",
    "g = sns.catplot(x=\"obs\", y=\"val\", col=\"x\", data=df_long, kind=\"box\", sharey=False)"
   ]
  },
  {
   "cell_type": "markdown",
   "metadata": {},
   "source": [
    "From the box plots, in particular the $x_1$ plot, it seems that the values are probably not missing completely at random.  One could follow this up with a statistical test comparing the distributions of $x_1$ for observed and missing data.  Alternatively, one could just fit a propensity score function and see if it can predict missingness better than random."
   ]
  },
  {
   "cell_type": "markdown",
   "metadata": {},
   "source": [
    "### Problem 1"
   ]
  },
  {
   "cell_type": "raw",
   "metadata": {},
   "source": [
    "**PART A:** Create a function that calculates the IPW and self-normalized IPW mean estimators from a sample. Additionally, return the total of the weights associated to *observed* outcomes. We will use this function below. "
   ]
  },
  {
   "cell_type": "code",
   "execution_count": null,
   "metadata": {},
   "outputs": [],
   "source": [
    "def ipw_estimators(obs_prob, obs, outcome):\n",
    "    \"\"\"\n",
    "    \n",
    "    Args:\n",
    "        obs_prob (pd.Series): probabilities that y_i were observed (i.e. propensities)\n",
    "        obs (pd.Series): boolean series indicating whether or not each value is observed\n",
    "        outcome (pd.Series): outcomes y_i\n",
    "    \n",
    "    Returns:\n",
    "        dict: {'ipw': ipw, 'sn_ipw': sn_ipw, 'total_weight': total_weight}\n",
    "    \"\"\"\n",
    "    pass"
   ]
  },
  {
   "cell_type": "markdown",
   "metadata": {},
   "source": [
    "**PART B:** Run 1000 trials of the following: 1) Draw a sample with `sample_size=200` from the sampler defined above. 2) Get the ipw and sn_ipw estimates of the overall mean using the `ipw_estimators()` function you created above.  For this simulation, use the true propensities for each observation, which are given in the `obs_prob` column of the dataframe returned by the sampler. Collect all these results into a dataframe. Each row of the resulting dataframe should correspond to a single trial and each column should correspond to an estimator (either ipw or sn_ipw). This will ensure compatibility with the `get_estimator_stats` function below."
   ]
  },
  {
   "cell_type": "markdown",
   "metadata": {},
   "source": [
    "**PART C:** Compute the bias, variance, and RMSE of the IPW and the self-normalized IPW estimators using `get_estimator_stats` from tools.py (already imported). Briefly summarize your findings."
   ]
  },
  {
   "cell_type": "markdown",
   "metadata": {},
   "source": [
    "**PART D:** Show that for the ipw estimator, the estimates of SD, bias, and RMSE are compatible in terms of the bias-variance decomposition identity."
   ]
  },
  {
   "cell_type": "markdown",
   "metadata": {},
   "source": [
    "### Problem 2"
   ]
  },
  {
   "cell_type": "markdown",
   "metadata": {},
   "source": [
    "**PART A:** Graph the scatterplot of the IPW estimate vs total_weight across trials recorded in the results dataframe from Problem 1. *Do the same* for the self-normalized IPW estimate.  Report the correlation for each. Briefly describe your findings."
   ]
  },
  {
   "cell_type": "code",
   "execution_count": null,
   "metadata": {},
   "outputs": [],
   "source": [
    "#e.g. sns.jointplot(data=results, x='total_weight', y='ipw', kind=\"reg\", x_jitter=0, scatter_kws={\"s\": 1})"
   ]
  },
  {
   "cell_type": "markdown",
   "metadata": {},
   "source": [
    "### Problem 3\n",
    "\n",
    "In the previous problems, we used the true propensities that our dataset generator provided us in the (`obs_prob`) column. In this problem, we'll investigate the impact of estimating the propensity score function from data, both for a \"correct\" model and an \"incorrect\" model.  "
   ]
  },
  {
   "cell_type": "markdown",
   "metadata": {},
   "source": [
    "**PART A:** Following the pattern in Problems 1.B and 1.C above, compare the performance of the IPW estimator using the true propensities to the performance using propensities predicted by a logistic regression model fit to the $z_i$'s. Also compare to a logistic regression model fit to the $x_i$'s.  Repeat the comparison for the self-normalized IPW estimator. Summarize your findings. [Hints: 1) You can set use penalty='none' for LogisticRegression in sklearn. 2) Figuring out a good naming convention for these estimators is no joke.  We like to use ipw_t for IPW using the true propensities, ipw_lr_x for IPW using a logistic regression estimate of propensity with the $x_i$ covariates.  Then sn_ipw_rf_z when we're using self-normalized IPW with a random forest propensity model based on covariate $z$.]"
   ]
  },
  {
   "cell_type": "markdown",
   "metadata": {},
   "source": [
    "**PART B:** In this part we're going to try to get better performance using only the $x_i$'s for our propensity model.  Try using a nonlinear model (e.g. random forest, gradient boosted trees, etc...) to fit the propensity score function. Compare results using IPW and SN_IPW with both logistic regression and your nonlinear model for the propensity score function.  Summarize your findings."
   ]
  }
 ],
 "metadata": {
  "kernelspec": {
   "display_name": "Python 3",
   "language": "python",
   "name": "python3"
  },
  "language_info": {
   "codemirror_mode": {
    "name": "ipython",
    "version": 3
   },
   "file_extension": ".py",
   "mimetype": "text/x-python",
   "name": "python",
   "nbconvert_exporter": "python",
   "pygments_lexer": "ipython3",
   "version": "3.9.6"
  }
 },
 "nbformat": 4,
 "nbformat_minor": 4
}
